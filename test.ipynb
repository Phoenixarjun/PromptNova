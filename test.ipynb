{
 "cells": [
  {
   "cell_type": "code",
   "id": "da8ab149",
   "metadata": {
    "ExecuteTime": {
     "end_time": "2025-09-20T07:44:02.004847Z",
     "start_time": "2025-09-20T07:44:01.997102Z"
    }
   },
   "source": [
    "print(\"Hello\")"
   ],
   "outputs": [
    {
     "name": "stdout",
     "output_type": "stream",
     "text": [
      "Hello\n"
     ]
    }
   ],
   "execution_count": 1
  },
  {
   "cell_type": "code",
   "id": "8429465a",
   "metadata": {
    "ExecuteTime": {
     "end_time": "2025-09-20T07:44:08.872178Z",
     "start_time": "2025-09-20T07:44:08.772910Z"
    }
   },
   "source": [
    "from dotenv import load_dotenv\n",
    "load_dotenv()"
   ],
   "outputs": [
    {
     "data": {
      "text/plain": [
       "False"
      ]
     },
     "execution_count": 2,
     "metadata": {},
     "output_type": "execute_result"
    }
   ],
   "execution_count": 2
  },
  {
   "cell_type": "code",
   "id": "1ae9e3e8",
   "metadata": {
    "ExecuteTime": {
     "end_time": "2025-09-20T07:44:13.591040Z",
     "start_time": "2025-09-20T07:44:13.581460Z"
    }
   },
   "source": [
    "import os\n",
    "\n",
    "GROQ_API_KEY = os.getenv('GROQ_API_KEY')\n",
    "# print(GROQ_API_KEY)"
   ],
   "outputs": [],
   "execution_count": 3
  },
  {
   "cell_type": "code",
   "id": "b00b988d",
   "metadata": {
    "ExecuteTime": {
     "end_time": "2025-09-20T07:45:57.139445Z",
     "start_time": "2025-09-20T07:45:53.282582Z"
    }
   },
   "source": [
    "from langchain_groq import ChatGroq\n",
    "\n",
    "llm = ChatGroq(\n",
    "    model=\"deepseek-r1-distill-llama-70b\",\n",
    "    temperature=0,\n",
    "    max_tokens=None,\n",
    "    reasoning_format=\"parsed\",\n",
    "    timeout=None,\n",
    "    max_retries=2,\n",
    "    api_key=GROQ_API_KEY\n",
    ")\n",
    "\n",
    "messages = [\n",
    "    (\n",
    "        \"system\",\n",
    "        \"You are a helpful assistant that translates English to French. Translate the user sentence.\",\n",
    "    ),\n",
    "    (\"human\", \"I love programming.\"),\n",
    "]\n",
    "ai_msg = llm.invoke(messages)\n",
    "ai_msg"
   ],
   "outputs": [
    {
     "data": {
      "text/plain": [
       "AIMessage(content='The translation of \"I love programming.\" into French is:\\n\\n**J\\'aime programmer.**\\n\\nThis sentence directly conveys the love for the activity of programming using the infinitive form, which is natural and concise in French.', additional_kwargs={'reasoning_content': 'Okay, so I need to translate the sentence \"I love programming.\" into French. Let me think about how to approach this. First, I know that \"I\" in French is \"Je.\" That\\'s straightforward. Next, \"love\" translates to \"aime\" in French. So putting that together, it would be \"Je aime.\" Wait, but I remember that in French, the adjective or verb agrees with the subject in gender and number. Since \"Je\" is first person singular and masculine, does that affect \"aime\"? Hmm, \"aime\" is the correct form because it\\'s the first person singular of \"aimer,\" which means \"to love.\" So \"Je aime\" is correct so far.\\n\\nNow, the next part is \"programming.\" In French, \"programming\" is \"la programmation.\" But wait, in the sentence \"I love programming,\" \"programming\" is a gerund, the verb form ending in \"-ing.\" In French, gerunds are often translated using the present participle, which ends in \"-ant\" or \"-ent.\" So \"programming\" would be \"programmant.\" But I\\'m not entirely sure if that\\'s the correct way to structure it in French. Alternatively, maybe it\\'s better to use the noun form \"la programmation\" after the verb \"aime.\" So putting it all together, it would be \"Je aime la programmation.\" But wait, \"aime\" is the verb, and \"la programmation\" is the direct object. So that should be correct.\\n\\nWait, but I think in French, when you love an activity, you can use the verb \"faire\" or just the verb \"aimer\" with the gerund. Let me check. For example, \"J\\'aime faire de la programmation\" would mean \"I love to do programming.\" But in the original sentence, it\\'s \"I love programming,\" which is more concise. So maybe \"Je aime la programmation\" is the direct translation. Alternatively, \"J\\'aime programmer\" could also work, where \"programmer\" is the infinitive verb. So \"J\\'aime programmer\" would mean \"I love to program\" or \"I love programming.\"\\n\\nWait, but the original sentence is \"I love programming,\" which is a gerund. So in French, using the infinitive might be more natural. So \"J\\'aime programmer\" seems correct. Let me think about the structure. \"J\\'aime\" is \"I love,\" and \"programmer\" is \"to program.\" So \"J\\'aime programmer\" would be \"I love to program\" or \"I love programming.\" That sounds right.\\n\\nBut I\\'m a bit confused because sometimes in French, you can use the present participle as well. For example, \"J\\'aime en programmant\" or something like that, but that might not be necessary here. The simplest translation would be \"J\\'aime programmer.\" Alternatively, using the noun form, \"J\\'aime la programmation,\" which is also correct but might be a bit more formal.\\n\\nSo, to sum up, the translation could be either \"J\\'aime programmer\" or \"J\\'aime la programmation.\" Both are correct, but \"J\\'aime programmer\" is more direct and natural in this context.\\n'}, response_metadata={'token_usage': {'completion_tokens': 725, 'prompt_tokens': 23, 'total_tokens': 748, 'completion_time': 2.884144758, 'prompt_time': 0.01132372, 'queue_time': 0.04452919, 'total_time': 2.8954684779999997}, 'model_name': 'deepseek-r1-distill-llama-70b', 'system_fingerprint': 'fp_1bbe7845ec', 'service_tier': 'on_demand', 'finish_reason': 'stop', 'logprobs': None}, id='run--ec8a48f7-2ff6-4eb8-b5d6-6ecec0df5ec7-0', usage_metadata={'input_tokens': 23, 'output_tokens': 725, 'total_tokens': 748})"
      ]
     },
     "execution_count": 7,
     "metadata": {},
     "output_type": "execute_result"
    }
   ],
   "execution_count": 7
  },
  {
   "cell_type": "code",
   "execution_count": 1,
   "id": "93160f55",
   "metadata": {},
   "outputs": [
    {
     "ename": "DefaultCredentialsError",
     "evalue": "Your default credentials were not found. To set up Application Default Credentials, see https://cloud.google.com/docs/authentication/external/set-up-adc for more information.",
     "output_type": "error",
     "traceback": [
      "\u001B[1;31m---------------------------------------------------------------------------\u001B[0m",
      "\u001B[1;31mDefaultCredentialsError\u001B[0m                   Traceback (most recent call last)",
      "Cell \u001B[1;32mIn[1], line 3\u001B[0m\n\u001B[0;32m      1\u001B[0m \u001B[38;5;28;01mfrom\u001B[39;00m\u001B[38;5;250m \u001B[39m\u001B[38;5;21;01mlangchain_google_genai\u001B[39;00m\u001B[38;5;250m \u001B[39m\u001B[38;5;28;01mimport\u001B[39;00m ChatGoogleGenerativeAI\n\u001B[1;32m----> 3\u001B[0m llm \u001B[38;5;241m=\u001B[39m \u001B[43mChatGoogleGenerativeAI\u001B[49m\u001B[43m(\u001B[49m\n\u001B[0;32m      4\u001B[0m \u001B[43m    \u001B[49m\u001B[43mmodel\u001B[49m\u001B[38;5;241;43m=\u001B[39;49m\u001B[38;5;124;43m\"\u001B[39;49m\u001B[38;5;124;43mgemini-2.0-flash\u001B[39;49m\u001B[38;5;124;43m\"\u001B[39;49m\u001B[43m)\u001B[49m\n\u001B[0;32m      6\u001B[0m \u001B[38;5;28mprint\u001B[39m(llm\u001B[38;5;241m.\u001B[39minvoke(\u001B[38;5;124m\"\u001B[39m\u001B[38;5;124mHello\u001B[39m\u001B[38;5;124m\"\u001B[39m))\n",
      "File \u001B[1;32mc:\\Users\\naresh.b\\Downloads\\PromptNova\\.venv\\lib\\site-packages\\langchain_google_genai\\chat_models.py:1364\u001B[0m, in \u001B[0;36mChatGoogleGenerativeAI.__init__\u001B[1;34m(self, **kwargs)\u001B[0m\n\u001B[0;32m   1357\u001B[0m         suggestion \u001B[38;5;241m=\u001B[39m (\n\u001B[0;32m   1358\u001B[0m             \u001B[38;5;124mf\u001B[39m\u001B[38;5;124m\"\u001B[39m\u001B[38;5;124m Did you mean: \u001B[39m\u001B[38;5;124m'\u001B[39m\u001B[38;5;132;01m{\u001B[39;00msuggestions[\u001B[38;5;241m0\u001B[39m]\u001B[38;5;132;01m}\u001B[39;00m\u001B[38;5;124m'\u001B[39m\u001B[38;5;124m?\u001B[39m\u001B[38;5;124m\"\u001B[39m \u001B[38;5;28;01mif\u001B[39;00m suggestions \u001B[38;5;28;01melse\u001B[39;00m \u001B[38;5;124m\"\u001B[39m\u001B[38;5;124m\"\u001B[39m\n\u001B[0;32m   1359\u001B[0m         )\n\u001B[0;32m   1360\u001B[0m         logger\u001B[38;5;241m.\u001B[39mwarning(\n\u001B[0;32m   1361\u001B[0m             \u001B[38;5;124mf\u001B[39m\u001B[38;5;124m\"\u001B[39m\u001B[38;5;124mUnexpected argument \u001B[39m\u001B[38;5;124m'\u001B[39m\u001B[38;5;132;01m{\u001B[39;00marg\u001B[38;5;132;01m}\u001B[39;00m\u001B[38;5;124m'\u001B[39m\u001B[38;5;124m \u001B[39m\u001B[38;5;124m\"\u001B[39m\n\u001B[0;32m   1362\u001B[0m             \u001B[38;5;124mf\u001B[39m\u001B[38;5;124m\"\u001B[39m\u001B[38;5;124mprovided to ChatGoogleGenerativeAI.\u001B[39m\u001B[38;5;132;01m{\u001B[39;00msuggestion\u001B[38;5;132;01m}\u001B[39;00m\u001B[38;5;124m\"\u001B[39m\n\u001B[0;32m   1363\u001B[0m         )\n\u001B[1;32m-> 1364\u001B[0m \u001B[38;5;28msuper\u001B[39m()\u001B[38;5;241m.\u001B[39m\u001B[38;5;21m__init__\u001B[39m(\u001B[38;5;241m*\u001B[39m\u001B[38;5;241m*\u001B[39mkwargs)\n",
      "File \u001B[1;32mc:\\Users\\naresh.b\\Downloads\\PromptNova\\.venv\\lib\\site-packages\\langchain_core\\load\\serializable.py:115\u001B[0m, in \u001B[0;36mSerializable.__init__\u001B[1;34m(self, *args, **kwargs)\u001B[0m\n\u001B[0;32m    113\u001B[0m \u001B[38;5;28;01mdef\u001B[39;00m\u001B[38;5;250m \u001B[39m\u001B[38;5;21m__init__\u001B[39m(\u001B[38;5;28mself\u001B[39m, \u001B[38;5;241m*\u001B[39margs: Any, \u001B[38;5;241m*\u001B[39m\u001B[38;5;241m*\u001B[39mkwargs: Any) \u001B[38;5;241m-\u001B[39m\u001B[38;5;241m>\u001B[39m \u001B[38;5;28;01mNone\u001B[39;00m:\n\u001B[0;32m    114\u001B[0m \u001B[38;5;250m    \u001B[39m\u001B[38;5;124;03m\"\"\"\"\"\"\u001B[39;00m  \u001B[38;5;66;03m# noqa: D419\u001B[39;00m\n\u001B[1;32m--> 115\u001B[0m     \u001B[38;5;28msuper\u001B[39m()\u001B[38;5;241m.\u001B[39m\u001B[38;5;21m__init__\u001B[39m(\u001B[38;5;241m*\u001B[39margs, \u001B[38;5;241m*\u001B[39m\u001B[38;5;241m*\u001B[39mkwargs)\n",
      "    \u001B[1;31m[... skipping hidden 1 frame]\u001B[0m\n",
      "File \u001B[1;32mc:\\Users\\naresh.b\\Downloads\\PromptNova\\.venv\\lib\\site-packages\\langchain_google_genai\\chat_models.py:1423\u001B[0m, in \u001B[0;36mChatGoogleGenerativeAI.validate_environment\u001B[1;34m(self)\u001B[0m\n\u001B[0;32m   1421\u001B[0m         google_api_key \u001B[38;5;241m=\u001B[39m \u001B[38;5;28mself\u001B[39m\u001B[38;5;241m.\u001B[39mgoogle_api_key\n\u001B[0;32m   1422\u001B[0m transport: Optional[\u001B[38;5;28mstr\u001B[39m] \u001B[38;5;241m=\u001B[39m \u001B[38;5;28mself\u001B[39m\u001B[38;5;241m.\u001B[39mtransport\n\u001B[1;32m-> 1423\u001B[0m \u001B[38;5;28mself\u001B[39m\u001B[38;5;241m.\u001B[39mclient \u001B[38;5;241m=\u001B[39m \u001B[43mgenaix\u001B[49m\u001B[38;5;241;43m.\u001B[39;49m\u001B[43mbuild_generative_service\u001B[49m\u001B[43m(\u001B[49m\n\u001B[0;32m   1424\u001B[0m \u001B[43m    \u001B[49m\u001B[43mcredentials\u001B[49m\u001B[38;5;241;43m=\u001B[39;49m\u001B[38;5;28;43mself\u001B[39;49m\u001B[38;5;241;43m.\u001B[39;49m\u001B[43mcredentials\u001B[49m\u001B[43m,\u001B[49m\n\u001B[0;32m   1425\u001B[0m \u001B[43m    \u001B[49m\u001B[43mapi_key\u001B[49m\u001B[38;5;241;43m=\u001B[39;49m\u001B[43mgoogle_api_key\u001B[49m\u001B[43m,\u001B[49m\n\u001B[0;32m   1426\u001B[0m \u001B[43m    \u001B[49m\u001B[43mclient_info\u001B[49m\u001B[38;5;241;43m=\u001B[39;49m\u001B[43mclient_info\u001B[49m\u001B[43m,\u001B[49m\n\u001B[0;32m   1427\u001B[0m \u001B[43m    \u001B[49m\u001B[43mclient_options\u001B[49m\u001B[38;5;241;43m=\u001B[39;49m\u001B[38;5;28;43mself\u001B[39;49m\u001B[38;5;241;43m.\u001B[39;49m\u001B[43mclient_options\u001B[49m\u001B[43m,\u001B[49m\n\u001B[0;32m   1428\u001B[0m \u001B[43m    \u001B[49m\u001B[43mtransport\u001B[49m\u001B[38;5;241;43m=\u001B[39;49m\u001B[43mtransport\u001B[49m\u001B[43m,\u001B[49m\n\u001B[0;32m   1429\u001B[0m \u001B[43m\u001B[49m\u001B[43m)\u001B[49m\n\u001B[0;32m   1430\u001B[0m \u001B[38;5;28mself\u001B[39m\u001B[38;5;241m.\u001B[39masync_client_running \u001B[38;5;241m=\u001B[39m \u001B[38;5;28;01mNone\u001B[39;00m\n\u001B[0;32m   1431\u001B[0m \u001B[38;5;28;01mreturn\u001B[39;00m \u001B[38;5;28mself\u001B[39m\n",
      "File \u001B[1;32mc:\\Users\\naresh.b\\Downloads\\PromptNova\\.venv\\lib\\site-packages\\langchain_google_genai\\_genai_extension.py:276\u001B[0m, in \u001B[0;36mbuild_generative_service\u001B[1;34m(credentials, api_key, client_options, client_info, transport)\u001B[0m\n\u001B[0;32m    262\u001B[0m \u001B[38;5;28;01mdef\u001B[39;00m\u001B[38;5;250m \u001B[39m\u001B[38;5;21mbuild_generative_service\u001B[39m(\n\u001B[0;32m    263\u001B[0m     credentials: Optional[credentials\u001B[38;5;241m.\u001B[39mCredentials] \u001B[38;5;241m=\u001B[39m \u001B[38;5;28;01mNone\u001B[39;00m,\n\u001B[0;32m    264\u001B[0m     api_key: Optional[\u001B[38;5;28mstr\u001B[39m] \u001B[38;5;241m=\u001B[39m \u001B[38;5;28;01mNone\u001B[39;00m,\n\u001B[1;32m   (...)\u001B[0m\n\u001B[0;32m    267\u001B[0m     transport: Optional[\u001B[38;5;28mstr\u001B[39m] \u001B[38;5;241m=\u001B[39m \u001B[38;5;28;01mNone\u001B[39;00m,\n\u001B[0;32m    268\u001B[0m ) \u001B[38;5;241m-\u001B[39m\u001B[38;5;241m>\u001B[39m v1betaGenerativeServiceClient:\n\u001B[0;32m    269\u001B[0m     config \u001B[38;5;241m=\u001B[39m _prepare_config(\n\u001B[0;32m    270\u001B[0m         credentials\u001B[38;5;241m=\u001B[39mcredentials,\n\u001B[0;32m    271\u001B[0m         api_key\u001B[38;5;241m=\u001B[39mapi_key,\n\u001B[1;32m   (...)\u001B[0m\n\u001B[0;32m    274\u001B[0m         client_info\u001B[38;5;241m=\u001B[39mclient_info,\n\u001B[0;32m    275\u001B[0m     )\n\u001B[1;32m--> 276\u001B[0m     \u001B[38;5;28;01mreturn\u001B[39;00m v1betaGenerativeServiceClient(\u001B[38;5;241m*\u001B[39m\u001B[38;5;241m*\u001B[39mconfig)\n",
      "File \u001B[1;32mc:\\Users\\naresh.b\\Downloads\\PromptNova\\.venv\\lib\\site-packages\\google\\ai\\generativelanguage_v1beta\\services\\generative_service\\client.py:698\u001B[0m, in \u001B[0;36mGenerativeServiceClient.__init__\u001B[1;34m(self, credentials, transport, client_options, client_info)\u001B[0m\n\u001B[0;32m    689\u001B[0m     transport_init: Union[\n\u001B[0;32m    690\u001B[0m         Type[GenerativeServiceTransport],\n\u001B[0;32m    691\u001B[0m         Callable[\u001B[38;5;241m.\u001B[39m\u001B[38;5;241m.\u001B[39m\u001B[38;5;241m.\u001B[39m, GenerativeServiceTransport],\n\u001B[1;32m   (...)\u001B[0m\n\u001B[0;32m    695\u001B[0m         \u001B[38;5;28;01melse\u001B[39;00m cast(Callable[\u001B[38;5;241m.\u001B[39m\u001B[38;5;241m.\u001B[39m\u001B[38;5;241m.\u001B[39m, GenerativeServiceTransport], transport)\n\u001B[0;32m    696\u001B[0m     )\n\u001B[0;32m    697\u001B[0m     \u001B[38;5;66;03m# initialize with the provided callable or the passed in class\u001B[39;00m\n\u001B[1;32m--> 698\u001B[0m     \u001B[38;5;28mself\u001B[39m\u001B[38;5;241m.\u001B[39m_transport \u001B[38;5;241m=\u001B[39m \u001B[43mtransport_init\u001B[49m\u001B[43m(\u001B[49m\n\u001B[0;32m    699\u001B[0m \u001B[43m        \u001B[49m\u001B[43mcredentials\u001B[49m\u001B[38;5;241;43m=\u001B[39;49m\u001B[43mcredentials\u001B[49m\u001B[43m,\u001B[49m\n\u001B[0;32m    700\u001B[0m \u001B[43m        \u001B[49m\u001B[43mcredentials_file\u001B[49m\u001B[38;5;241;43m=\u001B[39;49m\u001B[38;5;28;43mself\u001B[39;49m\u001B[38;5;241;43m.\u001B[39;49m\u001B[43m_client_options\u001B[49m\u001B[38;5;241;43m.\u001B[39;49m\u001B[43mcredentials_file\u001B[49m\u001B[43m,\u001B[49m\n\u001B[0;32m    701\u001B[0m \u001B[43m        \u001B[49m\u001B[43mhost\u001B[49m\u001B[38;5;241;43m=\u001B[39;49m\u001B[38;5;28;43mself\u001B[39;49m\u001B[38;5;241;43m.\u001B[39;49m\u001B[43m_api_endpoint\u001B[49m\u001B[43m,\u001B[49m\n\u001B[0;32m    702\u001B[0m \u001B[43m        \u001B[49m\u001B[43mscopes\u001B[49m\u001B[38;5;241;43m=\u001B[39;49m\u001B[38;5;28;43mself\u001B[39;49m\u001B[38;5;241;43m.\u001B[39;49m\u001B[43m_client_options\u001B[49m\u001B[38;5;241;43m.\u001B[39;49m\u001B[43mscopes\u001B[49m\u001B[43m,\u001B[49m\n\u001B[0;32m    703\u001B[0m \u001B[43m        \u001B[49m\u001B[43mclient_cert_source_for_mtls\u001B[49m\u001B[38;5;241;43m=\u001B[39;49m\u001B[38;5;28;43mself\u001B[39;49m\u001B[38;5;241;43m.\u001B[39;49m\u001B[43m_client_cert_source\u001B[49m\u001B[43m,\u001B[49m\n\u001B[0;32m    704\u001B[0m \u001B[43m        \u001B[49m\u001B[43mquota_project_id\u001B[49m\u001B[38;5;241;43m=\u001B[39;49m\u001B[38;5;28;43mself\u001B[39;49m\u001B[38;5;241;43m.\u001B[39;49m\u001B[43m_client_options\u001B[49m\u001B[38;5;241;43m.\u001B[39;49m\u001B[43mquota_project_id\u001B[49m\u001B[43m,\u001B[49m\n\u001B[0;32m    705\u001B[0m \u001B[43m        \u001B[49m\u001B[43mclient_info\u001B[49m\u001B[38;5;241;43m=\u001B[39;49m\u001B[43mclient_info\u001B[49m\u001B[43m,\u001B[49m\n\u001B[0;32m    706\u001B[0m \u001B[43m        \u001B[49m\u001B[43malways_use_jwt_access\u001B[49m\u001B[38;5;241;43m=\u001B[39;49m\u001B[38;5;28;43;01mTrue\u001B[39;49;00m\u001B[43m,\u001B[49m\n\u001B[0;32m    707\u001B[0m \u001B[43m        \u001B[49m\u001B[43mapi_audience\u001B[49m\u001B[38;5;241;43m=\u001B[39;49m\u001B[38;5;28;43mself\u001B[39;49m\u001B[38;5;241;43m.\u001B[39;49m\u001B[43m_client_options\u001B[49m\u001B[38;5;241;43m.\u001B[39;49m\u001B[43mapi_audience\u001B[49m\u001B[43m,\u001B[49m\n\u001B[0;32m    708\u001B[0m \u001B[43m    \u001B[49m\u001B[43m)\u001B[49m\n\u001B[0;32m    710\u001B[0m \u001B[38;5;28;01mif\u001B[39;00m \u001B[38;5;124m\"\u001B[39m\u001B[38;5;124masync\u001B[39m\u001B[38;5;124m\"\u001B[39m \u001B[38;5;129;01mnot\u001B[39;00m \u001B[38;5;129;01min\u001B[39;00m \u001B[38;5;28mstr\u001B[39m(\u001B[38;5;28mself\u001B[39m\u001B[38;5;241m.\u001B[39m_transport):\n\u001B[0;32m    711\u001B[0m     \u001B[38;5;28;01mif\u001B[39;00m CLIENT_LOGGING_SUPPORTED \u001B[38;5;129;01mand\u001B[39;00m _LOGGER\u001B[38;5;241m.\u001B[39misEnabledFor(\n\u001B[0;32m    712\u001B[0m         std_logging\u001B[38;5;241m.\u001B[39mDEBUG\n\u001B[0;32m    713\u001B[0m     ):  \u001B[38;5;66;03m# pragma: NO COVER\u001B[39;00m\n",
      "File \u001B[1;32mc:\\Users\\naresh.b\\Downloads\\PromptNova\\.venv\\lib\\site-packages\\google\\ai\\generativelanguage_v1beta\\services\\generative_service\\transports\\grpc.py:234\u001B[0m, in \u001B[0;36mGenerativeServiceGrpcTransport.__init__\u001B[1;34m(self, host, credentials, credentials_file, scopes, channel, api_mtls_endpoint, client_cert_source, ssl_channel_credentials, client_cert_source_for_mtls, quota_project_id, client_info, always_use_jwt_access, api_audience)\u001B[0m\n\u001B[0;32m    229\u001B[0m             \u001B[38;5;28mself\u001B[39m\u001B[38;5;241m.\u001B[39m_ssl_channel_credentials \u001B[38;5;241m=\u001B[39m grpc\u001B[38;5;241m.\u001B[39mssl_channel_credentials(\n\u001B[0;32m    230\u001B[0m                 certificate_chain\u001B[38;5;241m=\u001B[39mcert, private_key\u001B[38;5;241m=\u001B[39mkey\n\u001B[0;32m    231\u001B[0m             )\n\u001B[0;32m    233\u001B[0m \u001B[38;5;66;03m# The base transport sets the host, credentials and scopes\u001B[39;00m\n\u001B[1;32m--> 234\u001B[0m \u001B[38;5;28;43msuper\u001B[39;49m\u001B[43m(\u001B[49m\u001B[43m)\u001B[49m\u001B[38;5;241;43m.\u001B[39;49m\u001B[38;5;21;43m__init__\u001B[39;49m\u001B[43m(\u001B[49m\n\u001B[0;32m    235\u001B[0m \u001B[43m    \u001B[49m\u001B[43mhost\u001B[49m\u001B[38;5;241;43m=\u001B[39;49m\u001B[43mhost\u001B[49m\u001B[43m,\u001B[49m\n\u001B[0;32m    236\u001B[0m \u001B[43m    \u001B[49m\u001B[43mcredentials\u001B[49m\u001B[38;5;241;43m=\u001B[39;49m\u001B[43mcredentials\u001B[49m\u001B[43m,\u001B[49m\n\u001B[0;32m    237\u001B[0m \u001B[43m    \u001B[49m\u001B[43mcredentials_file\u001B[49m\u001B[38;5;241;43m=\u001B[39;49m\u001B[43mcredentials_file\u001B[49m\u001B[43m,\u001B[49m\n\u001B[0;32m    238\u001B[0m \u001B[43m    \u001B[49m\u001B[43mscopes\u001B[49m\u001B[38;5;241;43m=\u001B[39;49m\u001B[43mscopes\u001B[49m\u001B[43m,\u001B[49m\n\u001B[0;32m    239\u001B[0m \u001B[43m    \u001B[49m\u001B[43mquota_project_id\u001B[49m\u001B[38;5;241;43m=\u001B[39;49m\u001B[43mquota_project_id\u001B[49m\u001B[43m,\u001B[49m\n\u001B[0;32m    240\u001B[0m \u001B[43m    \u001B[49m\u001B[43mclient_info\u001B[49m\u001B[38;5;241;43m=\u001B[39;49m\u001B[43mclient_info\u001B[49m\u001B[43m,\u001B[49m\n\u001B[0;32m    241\u001B[0m \u001B[43m    \u001B[49m\u001B[43malways_use_jwt_access\u001B[49m\u001B[38;5;241;43m=\u001B[39;49m\u001B[43malways_use_jwt_access\u001B[49m\u001B[43m,\u001B[49m\n\u001B[0;32m    242\u001B[0m \u001B[43m    \u001B[49m\u001B[43mapi_audience\u001B[49m\u001B[38;5;241;43m=\u001B[39;49m\u001B[43mapi_audience\u001B[49m\u001B[43m,\u001B[49m\n\u001B[0;32m    243\u001B[0m \u001B[43m\u001B[49m\u001B[43m)\u001B[49m\n\u001B[0;32m    245\u001B[0m \u001B[38;5;28;01mif\u001B[39;00m \u001B[38;5;129;01mnot\u001B[39;00m \u001B[38;5;28mself\u001B[39m\u001B[38;5;241m.\u001B[39m_grpc_channel:\n\u001B[0;32m    246\u001B[0m     \u001B[38;5;66;03m# initialize with the provided callable or the default channel\u001B[39;00m\n\u001B[0;32m    247\u001B[0m     channel_init \u001B[38;5;241m=\u001B[39m channel \u001B[38;5;129;01mor\u001B[39;00m \u001B[38;5;28mtype\u001B[39m(\u001B[38;5;28mself\u001B[39m)\u001B[38;5;241m.\u001B[39mcreate_channel\n",
      "File \u001B[1;32mc:\\Users\\naresh.b\\Downloads\\PromptNova\\.venv\\lib\\site-packages\\google\\ai\\generativelanguage_v1beta\\services\\generative_service\\transports\\base.py:104\u001B[0m, in \u001B[0;36mGenerativeServiceTransport.__init__\u001B[1;34m(self, host, credentials, credentials_file, scopes, quota_project_id, client_info, always_use_jwt_access, api_audience, **kwargs)\u001B[0m\n\u001B[0;32m    100\u001B[0m     credentials, _ \u001B[38;5;241m=\u001B[39m google\u001B[38;5;241m.\u001B[39mauth\u001B[38;5;241m.\u001B[39mload_credentials_from_file(\n\u001B[0;32m    101\u001B[0m         credentials_file, \u001B[38;5;241m*\u001B[39m\u001B[38;5;241m*\u001B[39mscopes_kwargs, quota_project_id\u001B[38;5;241m=\u001B[39mquota_project_id\n\u001B[0;32m    102\u001B[0m     )\n\u001B[0;32m    103\u001B[0m \u001B[38;5;28;01melif\u001B[39;00m credentials \u001B[38;5;129;01mis\u001B[39;00m \u001B[38;5;28;01mNone\u001B[39;00m \u001B[38;5;129;01mand\u001B[39;00m \u001B[38;5;129;01mnot\u001B[39;00m \u001B[38;5;28mself\u001B[39m\u001B[38;5;241m.\u001B[39m_ignore_credentials:\n\u001B[1;32m--> 104\u001B[0m     credentials, _ \u001B[38;5;241m=\u001B[39m google\u001B[38;5;241m.\u001B[39mauth\u001B[38;5;241m.\u001B[39mdefault(\n\u001B[0;32m    105\u001B[0m         \u001B[38;5;241m*\u001B[39m\u001B[38;5;241m*\u001B[39mscopes_kwargs, quota_project_id\u001B[38;5;241m=\u001B[39mquota_project_id\n\u001B[0;32m    106\u001B[0m     )\n\u001B[0;32m    107\u001B[0m     \u001B[38;5;66;03m# Don't apply audience if the credentials file passed from user.\u001B[39;00m\n\u001B[0;32m    108\u001B[0m     \u001B[38;5;28;01mif\u001B[39;00m \u001B[38;5;28mhasattr\u001B[39m(credentials, \u001B[38;5;124m\"\u001B[39m\u001B[38;5;124mwith_gdch_audience\u001B[39m\u001B[38;5;124m\"\u001B[39m):\n",
      "File \u001B[1;32mc:\\Users\\naresh.b\\Downloads\\PromptNova\\.venv\\lib\\site-packages\\google\\auth\\_default.py:685\u001B[0m, in \u001B[0;36mdefault\u001B[1;34m(scopes, request, quota_project_id, default_scopes)\u001B[0m\n\u001B[0;32m    677\u001B[0m             _LOGGER\u001B[38;5;241m.\u001B[39mwarning(\n\u001B[0;32m    678\u001B[0m                 \u001B[38;5;124m\"\u001B[39m\u001B[38;5;124mNo project ID could be determined. Consider running \u001B[39m\u001B[38;5;124m\"\u001B[39m\n\u001B[0;32m    679\u001B[0m                 \u001B[38;5;124m\"\u001B[39m\u001B[38;5;124m`gcloud config set project` or setting the \u001B[39m\u001B[38;5;132;01m%s\u001B[39;00m\u001B[38;5;124m \u001B[39m\u001B[38;5;124m\"\u001B[39m\n\u001B[0;32m    680\u001B[0m                 \u001B[38;5;124m\"\u001B[39m\u001B[38;5;124menvironment variable\u001B[39m\u001B[38;5;124m\"\u001B[39m,\n\u001B[0;32m    681\u001B[0m                 environment_vars\u001B[38;5;241m.\u001B[39mPROJECT,\n\u001B[0;32m    682\u001B[0m             )\n\u001B[0;32m    683\u001B[0m         \u001B[38;5;28;01mreturn\u001B[39;00m credentials, effective_project_id\n\u001B[1;32m--> 685\u001B[0m \u001B[38;5;28;01mraise\u001B[39;00m exceptions\u001B[38;5;241m.\u001B[39mDefaultCredentialsError(_CLOUD_SDK_MISSING_CREDENTIALS)\n",
      "\u001B[1;31mDefaultCredentialsError\u001B[0m: Your default credentials were not found. To set up Application Default Credentials, see https://cloud.google.com/docs/authentication/external/set-up-adc for more information."
     ]
    }
   ],
   "source": [
    "\n",
    "from langchain_google_genai import ChatGoogleGenerativeAI\n",
    "\n",
    "llm = ChatGoogleGenerativeAI(\n",
    "    model=\"gemini-2.0-flash\")\n",
    "\n",
    "print(llm.invoke(\"Hello\"))"
   ]
  },
  {
   "metadata": {
    "ExecuteTime": {
     "end_time": "2025-09-20T07:45:17.897942Z",
     "start_time": "2025-09-20T07:45:13.988302Z"
    }
   },
   "cell_type": "code",
   "source": "!pip install langchain_groq",
   "id": "1dd781985070ae24",
   "outputs": [
    {
     "name": "stdout",
     "output_type": "stream",
     "text": [
      "Collecting langchain_groq\n",
      "  Downloading langchain_groq-0.3.8-py3-none-any.whl.metadata (2.6 kB)\n",
      "Requirement already satisfied: langchain-core<1.0.0,>=0.3.75 in d:\\arjuns work\\promptnova\\.venv\\lib\\site-packages (from langchain_groq) (0.3.76)\n",
      "Collecting groq<1,>=0.30.0 (from langchain_groq)\n",
      "  Downloading groq-0.31.1-py3-none-any.whl.metadata (16 kB)\n",
      "Requirement already satisfied: anyio<5,>=3.5.0 in d:\\arjuns work\\promptnova\\.venv\\lib\\site-packages (from groq<1,>=0.30.0->langchain_groq) (4.10.0)\n",
      "Collecting distro<2,>=1.7.0 (from groq<1,>=0.30.0->langchain_groq)\n",
      "  Downloading distro-1.9.0-py3-none-any.whl.metadata (6.8 kB)\n",
      "Requirement already satisfied: httpx<1,>=0.23.0 in d:\\arjuns work\\promptnova\\.venv\\lib\\site-packages (from groq<1,>=0.30.0->langchain_groq) (0.28.1)\n",
      "Requirement already satisfied: pydantic<3,>=1.9.0 in d:\\arjuns work\\promptnova\\.venv\\lib\\site-packages (from groq<1,>=0.30.0->langchain_groq) (2.11.9)\n",
      "Requirement already satisfied: sniffio in d:\\arjuns work\\promptnova\\.venv\\lib\\site-packages (from groq<1,>=0.30.0->langchain_groq) (1.3.1)\n",
      "Requirement already satisfied: typing-extensions<5,>=4.10 in d:\\arjuns work\\promptnova\\.venv\\lib\\site-packages (from groq<1,>=0.30.0->langchain_groq) (4.15.0)\n",
      "Requirement already satisfied: idna>=2.8 in d:\\arjuns work\\promptnova\\.venv\\lib\\site-packages (from anyio<5,>=3.5.0->groq<1,>=0.30.0->langchain_groq) (3.10)\n",
      "Requirement already satisfied: certifi in d:\\arjuns work\\promptnova\\.venv\\lib\\site-packages (from httpx<1,>=0.23.0->groq<1,>=0.30.0->langchain_groq) (2025.8.3)\n",
      "Requirement already satisfied: httpcore==1.* in d:\\arjuns work\\promptnova\\.venv\\lib\\site-packages (from httpx<1,>=0.23.0->groq<1,>=0.30.0->langchain_groq) (1.0.9)\n",
      "Requirement already satisfied: h11>=0.16 in d:\\arjuns work\\promptnova\\.venv\\lib\\site-packages (from httpcore==1.*->httpx<1,>=0.23.0->groq<1,>=0.30.0->langchain_groq) (0.16.0)\n",
      "Requirement already satisfied: langsmith>=0.3.45 in d:\\arjuns work\\promptnova\\.venv\\lib\\site-packages (from langchain-core<1.0.0,>=0.3.75->langchain_groq) (0.4.29)\n",
      "Requirement already satisfied: tenacity!=8.4.0,<10.0.0,>=8.1.0 in d:\\arjuns work\\promptnova\\.venv\\lib\\site-packages (from langchain-core<1.0.0,>=0.3.75->langchain_groq) (9.1.2)\n",
      "Requirement already satisfied: jsonpatch<2.0,>=1.33 in d:\\arjuns work\\promptnova\\.venv\\lib\\site-packages (from langchain-core<1.0.0,>=0.3.75->langchain_groq) (1.33)\n",
      "Requirement already satisfied: PyYAML>=5.3 in d:\\arjuns work\\promptnova\\.venv\\lib\\site-packages (from langchain-core<1.0.0,>=0.3.75->langchain_groq) (6.0.2)\n",
      "Requirement already satisfied: packaging>=23.2 in d:\\arjuns work\\promptnova\\.venv\\lib\\site-packages (from langchain-core<1.0.0,>=0.3.75->langchain_groq) (25.0)\n",
      "Requirement already satisfied: jsonpointer>=1.9 in d:\\arjuns work\\promptnova\\.venv\\lib\\site-packages (from jsonpatch<2.0,>=1.33->langchain-core<1.0.0,>=0.3.75->langchain_groq) (3.0.0)\n",
      "Requirement already satisfied: annotated-types>=0.6.0 in d:\\arjuns work\\promptnova\\.venv\\lib\\site-packages (from pydantic<3,>=1.9.0->groq<1,>=0.30.0->langchain_groq) (0.7.0)\n",
      "Requirement already satisfied: pydantic-core==2.33.2 in d:\\arjuns work\\promptnova\\.venv\\lib\\site-packages (from pydantic<3,>=1.9.0->groq<1,>=0.30.0->langchain_groq) (2.33.2)\n",
      "Requirement already satisfied: typing-inspection>=0.4.0 in d:\\arjuns work\\promptnova\\.venv\\lib\\site-packages (from pydantic<3,>=1.9.0->groq<1,>=0.30.0->langchain_groq) (0.4.1)\n",
      "Requirement already satisfied: orjson>=3.9.14 in d:\\arjuns work\\promptnova\\.venv\\lib\\site-packages (from langsmith>=0.3.45->langchain-core<1.0.0,>=0.3.75->langchain_groq) (3.11.3)\n",
      "Requirement already satisfied: requests-toolbelt>=1.0.0 in d:\\arjuns work\\promptnova\\.venv\\lib\\site-packages (from langsmith>=0.3.45->langchain-core<1.0.0,>=0.3.75->langchain_groq) (1.0.0)\n",
      "Requirement already satisfied: requests>=2.0.0 in d:\\arjuns work\\promptnova\\.venv\\lib\\site-packages (from langsmith>=0.3.45->langchain-core<1.0.0,>=0.3.75->langchain_groq) (2.32.5)\n",
      "Requirement already satisfied: zstandard>=0.23.0 in d:\\arjuns work\\promptnova\\.venv\\lib\\site-packages (from langsmith>=0.3.45->langchain-core<1.0.0,>=0.3.75->langchain_groq) (0.25.0)\n",
      "Requirement already satisfied: charset_normalizer<4,>=2 in d:\\arjuns work\\promptnova\\.venv\\lib\\site-packages (from requests>=2.0.0->langsmith>=0.3.45->langchain-core<1.0.0,>=0.3.75->langchain_groq) (3.4.3)\n",
      "Requirement already satisfied: urllib3<3,>=1.21.1 in d:\\arjuns work\\promptnova\\.venv\\lib\\site-packages (from requests>=2.0.0->langsmith>=0.3.45->langchain-core<1.0.0,>=0.3.75->langchain_groq) (2.5.0)\n",
      "Downloading langchain_groq-0.3.8-py3-none-any.whl (16 kB)\n",
      "Downloading groq-0.31.1-py3-none-any.whl (134 kB)\n",
      "Downloading distro-1.9.0-py3-none-any.whl (20 kB)\n",
      "Installing collected packages: distro, groq, langchain_groq\n",
      "\n",
      "   ------------- -------------------------- 1/3 [groq]\n",
      "   ------------- -------------------------- 1/3 [groq]\n",
      "   ------------- -------------------------- 1/3 [groq]\n",
      "   ------------- -------------------------- 1/3 [groq]\n",
      "   ------------- -------------------------- 1/3 [groq]\n",
      "   ------------- -------------------------- 1/3 [groq]\n",
      "   ------------- -------------------------- 1/3 [groq]\n",
      "   ------------- -------------------------- 1/3 [groq]\n",
      "   -------------------------- ------------- 2/3 [langchain_groq]\n",
      "   ---------------------------------------- 3/3 [langchain_groq]\n",
      "\n",
      "Successfully installed distro-1.9.0 groq-0.31.1 langchain_groq-0.3.8\n"
     ]
    },
    {
     "name": "stderr",
     "output_type": "stream",
     "text": [
      "\n",
      "[notice] A new release of pip is available: 25.1.1 -> 25.2\n",
      "[notice] To update, run: python.exe -m pip install --upgrade pip\n"
     ]
    }
   ],
   "execution_count": 5
  },
  {
   "cell_type": "code",
   "execution_count": null,
   "id": "32ad570b",
   "metadata": {},
   "outputs": [],
   "source": []
  }
 ],
 "metadata": {
  "kernelspec": {
   "display_name": ".venv",
   "language": "python",
   "name": "python3"
  },
  "language_info": {
   "codemirror_mode": {
    "name": "ipython",
    "version": 3
   },
   "file_extension": ".py",
   "mimetype": "text/x-python",
   "name": "python",
   "nbconvert_exporter": "python",
   "pygments_lexer": "ipython3",
   "version": "3.10.11"
  }
 },
 "nbformat": 4,
 "nbformat_minor": 5
}
